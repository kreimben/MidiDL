{
 "cells": [
  {
   "cell_type": "code",
   "outputs": [],
   "source": [
    "import torch\n",
    "from torch.utils.data import DataLoader\n",
    "from webencodings import labels\n",
    "\n",
    "from midi2vec.graph import midi_to_graph\n",
    "from midi2vec.train import train_node\n",
    "from midi2vec.visualise import visualize_graph"
   ],
   "metadata": {
    "collapsed": false
   },
   "id": "d056f7a7cdad52c5",
   "execution_count": null
  },
  {
   "cell_type": "markdown",
   "source": [
    "### Build the graph based on midi file."
   ],
   "metadata": {
    "collapsed": false
   },
   "id": "f9e1de4a3e2ac45"
  },
  {
   "cell_type": "code",
   "outputs": [],
   "source": [
    "G = midi_to_graph()"
   ],
   "metadata": {
    "collapsed": false
   },
   "id": "5e43d84807d596b9",
   "execution_count": null
  },
  {
   "cell_type": "code",
   "outputs": [],
   "source": [
    "train_node(G)"
   ],
   "metadata": {
    "collapsed": false
   },
   "id": "d9d06e88fe8339f",
   "execution_count": null
  },
  {
   "cell_type": "markdown",
   "source": [
    "### Let's visualise the graph!"
   ],
   "metadata": {
    "collapsed": false
   },
   "id": "4cd3fd8281e94913"
  },
  {
   "cell_type": "code",
   "outputs": [],
   "source": [
    "visualize_graph(G)"
   ],
   "metadata": {
    "collapsed": false
   },
   "id": "6a3872a901adb366",
   "execution_count": null
  },
  {
   "cell_type": "markdown",
   "source": [
    "### Ready for datasets."
   ],
   "metadata": {
    "collapsed": false
   },
   "id": "9dfdb74d1ddba0e0"
  },
  {
   "cell_type": "code",
   "outputs": [],
   "source": [
    "from model.dataset import Node2vecDataset\n",
    "\n",
    "# Convert your trained node2vec embedding to a dataset\n",
    "node2vec_dataset = Node2vecDataset(G, labels)  # replace `labels` with your actual labels\n",
    "dataloader = DataLoader(node2vec_dataset, batch_size=64, shuffle=True)"
   ],
   "metadata": {
    "collapsed": false
   },
   "id": "26212281bce6a7f6"
  },
  {
   "cell_type": "markdown",
   "source": [
    "### Train model"
   ],
   "metadata": {
    "collapsed": false
   },
   "id": "2ee7e66c5718b841"
  },
  {
   "cell_type": "code",
   "outputs": [],
   "source": [
    "from model.lightning_module import MusicGeneratorModel\n",
    "from pytorch_lightning import Trainer\n",
    "\n",
    "model = MusicGeneratorModel()\n",
    "trainer = Trainer(max_epochs=50, )  # Adjust epochs and gpus as needed\n",
    "trainer.fit(model, dataloader)"
   ],
   "metadata": {
    "collapsed": false
   },
   "id": "92adf6d093bdba32"
  },
  {
   "cell_type": "markdown",
   "source": [
    "### Generate the music."
   ],
   "metadata": {
    "collapsed": false
   },
   "id": "57aa120221e34ccb"
  },
  {
   "cell_type": "code",
   "outputs": [],
   "source": [
    "z = torch.randn(1, 100)  # Example noise vector for generation\n",
    "generated_music = model(z)\n",
    "# Convert generated_music to MIDI or your desired format for playback"
   ],
   "metadata": {
    "collapsed": false
   },
   "id": "672af830c342137"
  }
 ],
 "metadata": {
  "kernelspec": {
   "display_name": "Python 3",
   "language": "python",
   "name": "python3"
  },
  "language_info": {
   "codemirror_mode": {
    "name": "ipython",
    "version": 2
   },
   "file_extension": ".py",
   "mimetype": "text/x-python",
   "name": "python",
   "nbconvert_exporter": "python",
   "pygments_lexer": "ipython2",
   "version": "2.7.6"
  }
 },
 "nbformat": 4,
 "nbformat_minor": 5
}
