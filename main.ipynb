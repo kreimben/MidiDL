{
 "cells": [
  {
   "cell_type": "code",
   "outputs": [],
   "source": [
    "import os\n",
    "\n",
    "from mido import MidiFile"
   ],
   "metadata": {
    "collapsed": false
   },
   "id": "d056f7a7cdad52c5"
  },
  {
   "cell_type": "markdown",
   "source": [
    "# Ready midi files and play it for example."
   ],
   "metadata": {
    "collapsed": false
   },
   "id": "f9e1de4a3e2ac45"
  },
  {
   "cell_type": "code",
   "outputs": [],
   "source": [
    "BASE_DIR = \"./midi\"\n",
    "\n",
    "directories = os.listdir(BASE_DIR)\n",
    "directories.sort()"
   ],
   "metadata": {
    "collapsed": false,
    "ExecuteTime": {
     "end_time": "2024-02-18T01:34:14.408003Z",
     "start_time": "2024-02-18T01:34:14.403704Z"
    }
   },
   "id": "ee3c3fed04b0ac35",
   "execution_count": 111
  },
  {
   "cell_type": "code",
   "outputs": [],
   "source": [
    "import mido\n",
    "\n",
    "outputs = mido.get_output_names()\n",
    "port = mido.open_output(outputs[0])"
   ],
   "metadata": {
    "collapsed": false,
    "ExecuteTime": {
     "end_time": "2024-02-18T01:34:14.881517Z",
     "start_time": "2024-02-18T01:34:14.864346Z"
    }
   },
   "id": "32b105294c372a52",
   "execution_count": 112
  },
  {
   "cell_type": "code",
   "outputs": [],
   "source": [
    "def get_songs():\n",
    "    for directory in directories:\n",
    "        files = os.listdir(os.path.join(BASE_DIR, directory))\n",
    "        files.sort()\n",
    "        for file in files:\n",
    "            p = os.path.join(BASE_DIR, directory, file)\n",
    "            mid = MidiFile(p)\n",
    "            yield mid.play()"
   ],
   "metadata": {
    "collapsed": false,
    "ExecuteTime": {
     "end_time": "2024-02-18T01:34:15.525249Z",
     "start_time": "2024-02-18T01:34:15.519634Z"
    }
   },
   "id": "299a33f8a2240070",
   "execution_count": 113
  },
  {
   "cell_type": "code",
   "outputs": [],
   "source": [
    "song = get_songs()"
   ],
   "metadata": {
    "collapsed": false,
    "ExecuteTime": {
     "end_time": "2024-02-18T01:34:16.155611Z",
     "start_time": "2024-02-18T01:34:16.128899Z"
    }
   },
   "id": "801a6a06412f7d8d",
   "execution_count": 114
  },
  {
   "cell_type": "code",
   "outputs": [],
   "source": [
    "for msg in next(song):\n",
    "    port.send(msg)"
   ],
   "metadata": {
    "collapsed": false,
    "is_executing": true,
    "ExecuteTime": {
     "start_time": "2024-02-18T01:36:26.284491Z"
    }
   },
   "id": "57a77ac8c28a29dd",
   "execution_count": null
  },
  {
   "cell_type": "code",
   "outputs": [],
   "source": [],
   "metadata": {
    "collapsed": false,
    "ExecuteTime": {
     "end_time": "2024-02-17T13:03:57.105665Z",
     "start_time": "2024-02-17T13:03:57.102840Z"
    }
   },
   "id": "7e3c0405418a62e2"
  }
 ],
 "metadata": {
  "kernelspec": {
   "display_name": "Python 3",
   "language": "python",
   "name": "python3"
  },
  "language_info": {
   "codemirror_mode": {
    "name": "ipython",
    "version": 2
   },
   "file_extension": ".py",
   "mimetype": "text/x-python",
   "name": "python",
   "nbconvert_exporter": "python",
   "pygments_lexer": "ipython2",
   "version": "2.7.6"
  }
 },
 "nbformat": 4,
 "nbformat_minor": 5
}
